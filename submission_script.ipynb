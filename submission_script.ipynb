{
 "cells": [
  {
   "cell_type": "markdown",
   "id": "8001f43e-9f41-4bdc-8050-995e9bbfb62e",
   "metadata": {},
   "source": [
    "# Submission Script\n",
    "\n",
    "Tipps:<br>\n",
    "-Bitte <span style=\"color:red\">sichert</span> eure Dateien regelmäßig extern! <br>\n",
    "-Kontrolliert eure <span style=\"color:red\">requirements.txt</span>. Fehlende packages sind ein häufiger Fehler. <br>\n",
    "-Nutzt <span style=\"color:red\">conda</span> environments, um potentielle Probleme zwischen packages zu vermeiden. In seltenen Fällen kann es passieren dass euer Server nicht mehr startet, wenn es Konflikte gibt. <br>\n",
    "-Falls ihr irgendwelche Anforderungen an eure Daten stellt (z.B. Mindestlänge des Signals für eine Operation), <span style=\"color:red\"> kontrolliert</span> das mit if/else oder try/except vorher. Ihr wisst nie was für Daten euer Algorithmus bekommt im versteckten Datensatz und er darf nicht abstürzen! <br>\n",
    "-Wichtig: kontrolliert dass euer code <span style=\"color:red\">keine Endlosschleifen</span> hat, bevor ihr ihn auf unseren server per submission sendet!!<br>\n",
    "\n",
    "Das Submission System ist sehr neu aufgesetzt. Falls ihr auf Probleme stößt, schreibt bitte ins Moodle Forum inklusive Fehlerbeschreibung (z.B. Stack Trace, Screenshot, output, etc.)! Notfalls wettbewerb@kismed.tu-darmstadt.de schreiben <br>\n",
    "<span style=\"color:red\">Kommentiert immer die submission Methoden aus</span>, wenn eine Abgabe nicht gewünscht ist, um Fehler zu vermeiden!"
   ]
  },
  {
   "cell_type": "markdown",
   "id": "dcb6f3e9-04a4-4eb1-8733-01a07207b10f",
   "metadata": {},
   "source": [
    "### Folgende Zelle ausführen, aber nichts ändern!"
   ]
  },
  {
   "cell_type": "code",
   "execution_count": 1,
   "id": "648cd42e-9e4e-4ed6-b535-0b8cd943653d",
   "metadata": {},
   "outputs": [],
   "source": [
    "# Nichts Ändern!!!\n",
    "import client\n",
    "# Ihr könnt nur nach 10 sekunden wieder eine submission zum Server machen.\n",
    "# Dies ist als Schutz für euch gedacht,\n",
    "# um das versehentliche doppelt Ausführen von Zellen zu verhindern.\n",
    "import time\n",
    "last_server_interaction = 0\n",
    "cooldown = 10  # seconds"
   ]
  },
  {
   "cell_type": "markdown",
   "id": "83488b4b-ebd8-4b2e-8797-c4e57315c56c",
   "metadata": {},
   "source": [
    "### Bitte Füllt die folgenden values des dictionaries korrekt mit euren Daten aus"
   ]
  },
  {
   "cell_type": "code",
   "execution_count": 17,
   "id": "39b7af36-1c45-4a44-9cb1-41338c0652c0",
   "metadata": {},
   "outputs": [],
   "source": [
    "# Beispiel für uns (ersetzt den rechten Teil der ':' mit euren Angaben):\n",
    "abgabe = {\n",
    "    \"team_name\": \"404_found_us\",\n",
    "    \"git_SSH\": \"git@github.com:HugePandaCoder/wettbewerb-KI-404-found-us.git\",\n",
    "    \"model\": \"abgabe_1.pt\",\n",
    "    \"python_version\": \"3.9\"\n",
    "         }"
   ]
  },
  {
   "cell_type": "markdown",
   "id": "d77828f3-ccd3-43e1-b0a2-31101cf108b9",
   "metadata": {},
   "source": [
    "### Hiermit macht ihr eine Testabgabe.\n",
    "Diese wird nicht bewertet oder gespeichert. Der Code wird auf training_mini getestet. <br>\n",
    "Wir erwarten, dass ihr euren Code testet! Sobald er hier durchläuft, könnt ihr ihn mit den Zellen weiter unten einreichen. <br>\n",
    "Wartet bis ihr eine Antwort mit successfull oder error bekommt. "
   ]
  },
  {
   "cell_type": "code",
   "execution_count": 18,
   "id": "eae2cf9e-946f-4bee-9cad-632a964a49e0",
   "metadata": {},
   "outputs": [
    {
     "name": "stdout",
     "output_type": "stream",
     "text": [
      "Response from server: JSON arrived\n",
      "waiting for response...\n",
      "Response from server:\n",
      "run successfull! Your testing results on training_mini were: {'performance_metric_WS23': 0.45652173913043476, 'F1': 0.607843137254902, 'Latenz': 25.990738888888888, 'Laufzeit': '00:01:08'}\n"
     ]
    }
   ],
   "source": [
    "if time.time()-last_server_interaction < cooldown:\n",
    "    print(\"please wait\")\n",
    "else:\n",
    "    client.test_submission(abgabe)\n",
    "    last_server_interaction = time.time()"
   ]
  },
  {
   "cell_type": "markdown",
   "id": "6da3d9d4-6abc-4ef1-89fc-ac46efeb6961",
   "metadata": {},
   "source": [
    "### Hiermit macht ihr eine Zwischenabgabe\n",
    "Es sind maximal 5 Zwischenabgaben erlaubt. Testet euren Code vorher (s.o.)! <br>\n",
    "Da der Code je nach model sehr lange auf dem Validierungsdatensatz brauchen kann, kriegt ihr hier keine automatische Rückmeldung. Sobald \"JSON arrived\" erscheint, ist euer Code eingegangen. Ihr dürft euren Server verlassen. <br>\n",
    "Weiter unten wird erklärt wie ihr eure Ergebnisse/euren Status abfragen könnt."
   ]
  },
  {
   "cell_type": "code",
   "execution_count": 19,
   "id": "d2b78fea-cf8a-45c9-973c-04c1faedd27c",
   "metadata": {},
   "outputs": [
    {
     "name": "stdout",
     "output_type": "stream",
     "text": [
      "Response from server: JSON arrived\n"
     ]
    }
   ],
   "source": [
    "'''\n",
    "if time.time()-last_server_interaction < cooldown:\n",
    "    print(\"please wait\")\n",
    "else:\n",
    "    client.make_submission(abgabe)\n",
    "    last_server_interaction = time.time()\n",
    "'''"
   ]
  },
  {
   "cell_type": "markdown",
   "id": "f23a080b-30f0-413c-a0bc-15469a8c6ff3",
   "metadata": {},
   "source": [
    "### <span style=\"color:red\">[Achtung!]</span> Hiermit macht ihr eure finale Abgabe\n",
    "Dies funktioniert wie die Zwischenabgabe, nur dass ihr hier die finale Abgabe macht!"
   ]
  },
  {
   "cell_type": "code",
   "execution_count": null,
   "id": "41ca478d-6ecc-49ab-8f6a-ee3afa87fcb6",
   "metadata": {},
   "outputs": [],
   "source": [
    "'''\n",
    "if time.time()-last_server_interaction < cooldown:\n",
    "    print(\"please wait\")\n",
    "else:\n",
    "    ##client.final_submission(abgabe) #Vorsicht!\n",
    "    last_server_interaction = time.time()\n",
    "''';"
   ]
  },
  {
   "cell_type": "markdown",
   "id": "59e09ad3-434b-44cb-bd0c-862d39417ac5",
   "metadata": {},
   "source": [
    "### Hiermit könnt ihr den letzten scored run aus unserer Datenbank abfragen"
   ]
  },
  {
   "cell_type": "code",
   "execution_count": 29,
   "id": "c78448d3-1a8e-4e6a-949d-ac6f1db1d099",
   "metadata": {},
   "outputs": [
    {
     "name": "stdout",
     "output_type": "stream",
     "text": [
      "Response from server: Your last successfull run was 1 with result {'performance_metric_WS23': 0.273627370595932, 'team_name': '404_found_us', 'f1_score': 0.5177743434906006, 'detection_error_onset': 43.960662841796875, 'run_time': '00:28:36', 'run': 1, 'date': '2025-06-05'}\n"
     ]
    }
   ],
   "source": [
    "client.get_last_result()"
   ]
  },
  {
   "cell_type": "markdown",
   "id": "09095b21-8d35-43ee-a4f4-974c124a0111",
   "metadata": {},
   "source": [
    "### Hiermit könnt ihr sehen ob ihr noch in der Queue seid oder ob Fehler in der Abgabe aufgetreten sind\n",
    "Wir geben die Fehlermeldung bei den \"richtigen\" Submissions nicht weiter, um Data Leakage zu vermeiden. Falls euer Code bei der Test-Submission durchläuft, wendet euch bei Problemen an den Hiwi (wettbewerb@kismed.tu-darmstadt.de)!"
   ]
  },
  {
   "cell_type": "code",
   "execution_count": 27,
   "id": "5f9328a0-ff17-4bc9-b4c7-765d69a02993",
   "metadata": {},
   "outputs": [
    {
     "name": "stdout",
     "output_type": "stream",
     "text": [
      "Response from server: You are not in queue and had no error in last run. If you have no new results, then you are most propably still running on the server.\n"
     ]
    }
   ],
   "source": [
    "client.check_for_queue_and_errors()"
   ]
  }
 ],
 "metadata": {
  "kernelspec": {
   "display_name": "Python [conda env:root] *",
   "language": "python",
   "name": "conda-root-py"
  },
  "language_info": {
   "codemirror_mode": {
    "name": "ipython",
    "version": 3
   },
   "file_extension": ".py",
   "mimetype": "text/x-python",
   "name": "python",
   "nbconvert_exporter": "python",
   "pygments_lexer": "ipython3",
   "version": "3.9.12"
  }
 },
 "nbformat": 4,
 "nbformat_minor": 5
}
